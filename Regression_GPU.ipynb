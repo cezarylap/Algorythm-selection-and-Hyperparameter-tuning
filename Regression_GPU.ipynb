{
 "cells": [
  {
   "cell_type": "code",
   "execution_count": 1,
   "metadata": {},
   "outputs": [
    {
     "ename": "ModuleNotFoundError",
     "evalue": "No module named 'cudf'",
     "output_type": "error",
     "traceback": [
      "\u001b[1;31m---------------------------------------------------------------------------\u001b[0m",
      "\u001b[1;31mModuleNotFoundError\u001b[0m                       Traceback (most recent call last)",
      "Cell \u001b[1;32mIn[1], line 2\u001b[0m\n\u001b[0;32m      1\u001b[0m \u001b[38;5;66;03m#1. Importing necessary libraries.\u001b[39;00m\n\u001b[1;32m----> 2\u001b[0m \u001b[38;5;28;01mimport\u001b[39;00m \u001b[38;5;21;01mcudf\u001b[39;00m\n\u001b[0;32m      3\u001b[0m \u001b[38;5;28;01mimport\u001b[39;00m \u001b[38;5;21;01mcupy\u001b[39;00m \u001b[38;5;28;01mas\u001b[39;00m \u001b[38;5;21;01mcp\u001b[39;00m\n\u001b[0;32m      4\u001b[0m \u001b[38;5;28;01mimport\u001b[39;00m \u001b[38;5;21;01mcuml\u001b[39;00m\n",
      "\u001b[1;31mModuleNotFoundError\u001b[0m: No module named 'cudf'"
     ]
    }
   ],
   "source": [
    "#1. Importing necessary libraries.\n",
    "import cudf\n",
    "import cupy as cp\n",
    "import cuml\n",
    "from cuml.linear_model import Ridge, Lasso\n",
    "from cuml.svm import SVR\n",
    "from cuml.tree import DecisionTreeRegressor\n",
    "from cuml.ensemble import RandomForestRegressor, GradientBoostingRegressor\n",
    "from cuml.neighbors import KNeighborsRegressor\n",
    "from cuml.neural_network import MLPRegressor\n",
    "from cuml.model_selection import train_test_split, KFold, GridSearchCV, cross_val_score\n",
    "from cuml.preprocessing import StandardScaler\n",
    "from cuml.metrics import mean_squared_error, mean_absolute_error, r2_score, explained_variance_score\n",
    "\n",
    "from xgboost import XGBRegressor\n",
    "from catboost import CatBoostRegressor"
   ]
  },
  {
   "cell_type": "code",
   "execution_count": 4,
   "metadata": {},
   "outputs": [
    {
     "ename": "NameError",
     "evalue": "name 'load_diabetes' is not defined",
     "output_type": "error",
     "traceback": [
      "\u001b[1;31m---------------------------------------------------------------------------\u001b[0m",
      "\u001b[1;31mNameError\u001b[0m                                 Traceback (most recent call last)",
      "Cell \u001b[1;32mIn[4], line 2\u001b[0m\n\u001b[0;32m      1\u001b[0m \u001b[38;5;66;03m#2. Loading and splitting the data.\u001b[39;00m\n\u001b[1;32m----> 2\u001b[0m diabetes \u001b[38;5;241m=\u001b[39m \u001b[43mload_diabetes\u001b[49m()\n\u001b[0;32m      3\u001b[0m X \u001b[38;5;241m=\u001b[39m cp\u001b[38;5;241m.\u001b[39masarray(diabetes\u001b[38;5;241m.\u001b[39mdata)\n\u001b[0;32m      4\u001b[0m y \u001b[38;5;241m=\u001b[39m cp\u001b[38;5;241m.\u001b[39masarray(diabetes\u001b[38;5;241m.\u001b[39mtarget)\n",
      "\u001b[1;31mNameError\u001b[0m: name 'load_diabetes' is not defined"
     ]
    }
   ],
   "source": [
    "#2. Loading and splitting the data.\n",
    "diabetes = load_diabetes()\n",
    "X = cp.asarray(diabetes.data)\n",
    "y = cp.asarray(diabetes.target)"
   ]
  },
  {
   "cell_type": "code",
   "execution_count": null,
   "metadata": {},
   "outputs": [],
   "source": [
    "#3. Data standardization.\n",
    "scaler = StandardScaler()\n",
    "X_train = scaler.fit_transform(X_train)\n",
    "X_test = scaler.transform(X_test)"
   ]
  },
  {
   "cell_type": "code",
   "execution_count": null,
   "metadata": {},
   "outputs": [],
   "source": [
    "#4. List of algorithms.\n",
    "models = [\n",
    "    ('Ridge Regression', Ridge()),\n",
    "    ('Lasso Regression', Lasso()),\n",
    "    ('SVR', SVR()),\n",
    "    ('Decision Tree', DecisionTreeRegressor()),\n",
    "    ('Random Forest', RandomForestRegressor()),\n",
    "    ('k-NN', KNeighborsRegressor()),\n",
    "    ('Gradient Boosting', GradientBoostingRegressor()),\n",
    "    ('Neural Network', MLPRegressor(max_iter=10000)),\n",
    "    ('XGBoost', XGBRegressor(objective='reg:squarederror', tree_method='gpu_hist')),\n",
    "    ('CatBoost', CatBoostRegressor(verbose=0, task_type='GPU'))\n",
    "]"
   ]
  },
  {
   "cell_type": "code",
   "execution_count": null,
   "metadata": {},
   "outputs": [],
   "source": [
    "#5. Cross-validation parameters.\n",
    "cv = KFold(n_splits=5, shuffle=True, random_state=345)"
   ]
  },
  {
   "cell_type": "code",
   "execution_count": null,
   "metadata": {},
   "outputs": [],
   "source": [
    "#6. Functions to generate model metrics.\n",
    "def evaluate_model(name, model, X_train, y_train, cv):\n",
    "    nmse_scores = cross_val_score(model, X_train, y_train, cv=cv, scoring='neg_mean_squared_error')\n",
    "    nmae_scores = cross_val_score(model, X_train, y_train, cv=cv, scoring='neg_mean_absolute_error')\n",
    "    r2_scores = cross_val_score(model, X_train, y_train, cv=cv, scoring='r2')\n",
    "    ev_scores = cross_val_score(model, X_train, y_train, cv=cv, scoring='explained_variance')\n",
    "\n",
    "    return {\n",
    "        'Model': name,\n",
    "        'MSE': -nmse_scores.mean(),  # Convert NMSE to MSE\n",
    "        'MAE': -nmae_scores.mean(),  # Convert NMAE to MAE\n",
    "        'R2': r2_scores.mean(),\n",
    "        'Explained Variance': ev_scores.mean()\n",
    "    }\n",
    "\n",
    "def evaluate_models(models, X_train, y_train, cv):\n",
    "    return [evaluate_model(name, model, X_train, y_train, cv) for name, model in models]\n"
   ]
  },
  {
   "cell_type": "code",
   "execution_count": null,
   "metadata": {},
   "outputs": [],
   "source": [
    "#7. Generating metrics for default hyperparameters.\n",
    "default_results = evaluate_models(models, X_train, y_train, cv)\n",
    "df_default = cudf.DataFrame(default_results)"
   ]
  },
  {
   "cell_type": "code",
   "execution_count": null,
   "metadata": {},
   "outputs": [],
   "source": [
    "#8. Defining hyperparameter grids for each algorithm.\n",
    "\n",
    "param_grids = {\n",
    "    'Ridge Regression': {\n",
    "        'alpha': [0.01, 0.1, 1.0, 2.0, 5.0, 10.0, 20.0, 50.0, 100.0]\n",
    "    },\n",
    "    'Lasso Regression': {\n",
    "        'alpha': [0.01, 0.1, 1.0, 2.0, 5.0, 10.0, 20.0, 50.0, 100.0]\n",
    "    },\n",
    "    'SVR': {\n",
    "        'C': [0.01, 0.1, 1.0, 2.0, 5.0, 10.0, 20.0, 50.0, 100.0],\n",
    "        'gamma': [0.001, 0.01, 0.1, 0.2, 0.5, 1],\n",
    "        'kernel': ['rbf', 'linear']\n",
    "    },\n",
    "    'Decision Tree': {\n",
    "        'max_depth': [None, 2, 5, 10, 20, 30, 40, 50, 100],\n",
    "        'min_samples_split': [2, 4, 5, 6, 8, 10, 12, 15],\n",
    "        'min_samples_leaf': [1, 2, 4, 5, 8, 10]\n",
    "    },\n",
    "    'Random Forest': {\n",
    "        'n_estimators': [10, 25, 40, 50, 80, 100],\n",
    "        'max_depth': [None, 5, 10, 20, 25, 30, 40],\n",
    "        'min_samples_split': [2, 5, 8, 10],\n",
    "        'min_samples_leaf': [1, 2, 4, 5, 8, 10, 15]\n",
    "    },\n",
    "    'k-NN': {\n",
    "        'n_neighbors': [3, 5, 7, 9, 11],\n",
    "        'weights': ['uniform', 'distance'],\n",
    "        'algorithm': ['auto', 'ball_tree', 'kd_tree', 'brute']\n",
    "    },\n",
    "    'Gradient Boosting': {\n",
    "        'n_estimators': [10, 20, 25, 30, 40, 50, 80, 100, 150, 200],\n",
    "        'learning_rate': [0.001, 0.01, 0.1, 0.2, 0.5, 1],\n",
    "        'max_depth': [3, 5, 7, 9, 11]\n",
    "    },\n",
    "    'Neural Network': {\n",
    "        'hidden_layer_sizes': [(50,), (100,)],\n",
    "        'activation': ['relu', 'tanh'],\n",
    "        'solver': ['adam', 'lbfgs'],\n",
    "        'alpha': [0.0001, 0.01],\n",
    "        'learning_rate': ['constant', 'adaptive']\n",
    "    },\n",
    "    'XGBoost': {\n",
    "        'n_estimators': [50, 75, 100, 200],\n",
    "        'learning_rate': [0.01, 0.1, 0.2, 0.3],\n",
    "        'max_depth': [3, 5, 7, 9]\n",
    "    },\n",
    "    'CatBoost': {\n",
    "        'iterations': [100, 200, 500],\n",
    "        'learning_rate': [0.01, 0.1, 0.2, 0.3],\n",
    "        'depth': [3, 5, 7, 9]\n",
    "    }\n",
    "}"
   ]
  },
  {
   "cell_type": "code",
   "execution_count": null,
   "metadata": {},
   "outputs": [],
   "source": [
    "#9. Generating best hyperparameter sets based on specified metric using grid search.\n",
    "best_models = []\n",
    "for name, model in models:\n",
    "    print(f\"Tuning {name}...\")\n",
    "    grid_search = GridSearchCV(estimator=model, param_grid=param_grids[name], cv=cv, scoring='neg_mean_squared_error', n_jobs=-1)\n",
    "    grid_search.fit(X_train, y_train)\n",
    "    best_models.append((name, grid_search.best_estimator_, grid_search.best_params_))\n",
    "    print(f\"Best parameters for {name}: {grid_search.best_params_}\")"
   ]
  },
  {
   "cell_type": "code",
   "execution_count": null,
   "metadata": {},
   "outputs": [],
   "source": [
    "#10. Generating additional metrics using the best hyperparameter sets.\n",
    "tuned_results = evaluate_models([(name, model) for name, model, params in best_models], X_train, y_train, cv)\n",
    "df_tuned = cudf.DataFrame(tuned_results)\n"
   ]
  },
  {
   "cell_type": "code",
   "execution_count": null,
   "metadata": {},
   "outputs": [],
   "source": [
    "#11. Formatting tables.\n",
    "def styled_df(df):\n",
    "    styled_df = df.style.background_gradient(subset=['R2', 'Explained Variance'], cmap='RdYlGn')\n",
    "    styled_df = styled_df.background_gradient(subset=['MSE', 'MAE'], cmap='RdYlGn_r') #reverse color map for minimized metrics\n",
    "    return styled_df\n"
   ]
  },
  {
   "cell_type": "code",
   "execution_count": null,
   "metadata": {},
   "outputs": [],
   "source": [
    "#12.1. Displaying the generated table.\n",
    "styled_df(df_default)"
   ]
  },
  {
   "cell_type": "code",
   "execution_count": null,
   "metadata": {},
   "outputs": [],
   "source": [
    "#12.2. Displaying the generated table.\n",
    "styled_df(df_tuned)"
   ]
  }
 ],
 "metadata": {
  "kernelspec": {
   "display_name": "Python 3",
   "language": "python",
   "name": "python3"
  },
  "language_info": {
   "codemirror_mode": {
    "name": "ipython",
    "version": 3
   },
   "file_extension": ".py",
   "mimetype": "text/x-python",
   "name": "python",
   "nbconvert_exporter": "python",
   "pygments_lexer": "ipython3",
   "version": "3.10.6"
  }
 },
 "nbformat": 4,
 "nbformat_minor": 2
}
